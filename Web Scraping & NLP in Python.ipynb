{
 "cells": [
  {
   "cell_type": "markdown",
   "metadata": {},
   "source": [
    "# Web Scraping & NLP in Python\n",
    "\n",
    "This is a sample Web Scraping Problem where I will scrape novels from the web and plot word frequency distributions.  This analysis will utilize the following steps:\n",
    "\n",
    "1. Stating the question.\n",
    "2. Getting the data.\n",
    "3. Wrangling the data to answer the question.\n",
    "4. Answer the question.\n",
    "5. Present the solution so that others can understand it."
   ]
  },
  {
   "cell_type": "markdown",
   "metadata": {},
   "source": [
    "### I. Stating the question\n",
    "\n",
    "What are the most frequent words in the novel *Moby Dick* and how often do they occur?"
   ]
  },
  {
   "cell_type": "code",
   "execution_count": 4,
   "metadata": {},
   "outputs": [],
   "source": [
    "# Storing the URL where Moby Dick is stored.\n",
    "\n",
    "url = 'https://www.gutenberg.org/files/2701/2701-h/2701-h.htm'"
   ]
  },
  {
   "cell_type": "markdown",
   "metadata": {},
   "source": [
    "### II.  Getting the Data"
   ]
  },
  {
   "cell_type": "code",
   "execution_count": 6,
   "metadata": {},
   "outputs": [
    {
     "data": {
      "text/plain": [
       "requests.models.Response"
      ]
     },
     "execution_count": 6,
     "metadata": {},
     "output_type": "execute_result"
    }
   ],
   "source": [
    "# Import `requests`\n",
    "import requests\n",
    "\n",
    "# making the request from the URL\n",
    "r = requests.get(url)\n",
    "\n",
    "# Identifying the object type\n",
    "type(r)"
   ]
  },
  {
   "cell_type": "code",
   "execution_count": 8,
   "metadata": {
    "collapsed": true
   },
   "outputs": [],
   "source": [
    "# Extracting HTML from Response object and print\n",
    "\n",
    "html = r.text"
   ]
  },
  {
   "cell_type": "code",
   "execution_count": 10,
   "metadata": {},
   "outputs": [],
   "source": [
    "# Printing out the html.\n",
    "\n",
    "#print(html)"
   ]
  },
  {
   "cell_type": "markdown",
   "metadata": {},
   "source": [
    "### III. Wrangling the Data to answer the question\n",
    "\n",
    "**Part 1:** Get the text from the HTML"
   ]
  },
  {
   "cell_type": "code",
   "execution_count": 12,
   "metadata": {
    "collapsed": true
   },
   "outputs": [],
   "source": [
    "# Importing BeautifulSoup for web scraping\n",
    "from bs4 import BeautifulSoup\n"
   ]
  },
  {
   "cell_type": "code",
   "execution_count": 14,
   "metadata": {},
   "outputs": [
    {
     "data": {
      "text/plain": [
       "bs4.BeautifulSoup"
      ]
     },
     "execution_count": 14,
     "metadata": {},
     "output_type": "execute_result"
    }
   ],
   "source": [
    "# Creating a BeautifulSoup object from the HTML\n",
    "soup = BeautifulSoup(html, \"html5lib\")\n",
    "\n",
    "# Identifying the BeautifulSoup type\n",
    "type(soup)\n"
   ]
  },
  {
   "cell_type": "code",
   "execution_count": 16,
   "metadata": {},
   "outputs": [
    {
     "data": {
      "text/plain": [
       "<title>\n",
       "      Moby Dick; Or the Whale, by Herman Melville\n",
       "    </title>"
      ]
     },
     "execution_count": 16,
     "metadata": {},
     "output_type": "execute_result"
    }
   ],
   "source": [
    "# Getting the soup title with HTML tags\n",
    "soup.title\n"
   ]
  },
  {
   "cell_type": "code",
   "execution_count": 18,
   "metadata": {},
   "outputs": [
    {
     "data": {
      "text/plain": [
       "'\\n      Moby Dick; Or the Whale, by Herman Melville\\n    '"
      ]
     },
     "execution_count": 18,
     "metadata": {},
     "output_type": "execute_result"
    }
   ],
   "source": [
    "# Getting the soup title as a string\n",
    "soup.title.string\n"
   ]
  },
  {
   "cell_type": "code",
   "execution_count": 21,
   "metadata": {},
   "outputs": [
    {
     "data": {
      "text/plain": [
       "[<a href=\"#link2H_4_0002\"> ETYMOLOGY. </a>,\n",
       " <a href=\"#link2H_4_0003\"> EXTRACTS (Supplied by a Sub-Sub-Librarian).\n",
       "         </a>,\n",
       " <a href=\"#link2HCH0001\"> CHAPTER 1. Loomings. </a>,\n",
       " <a href=\"#link2HCH0002\"> CHAPTER 2. The Carpet-Bag. </a>,\n",
       " <a href=\"#link2HCH0003\"> CHAPTER 3. The Spouter-Inn. </a>,\n",
       " <a href=\"#link2HCH0004\"> CHAPTER 4. The Counterpane. </a>,\n",
       " <a href=\"#link2HCH0005\"> CHAPTER 5. Breakfast. </a>,\n",
       " <a href=\"#link2HCH0006\"> CHAPTER 6. The Street. </a>,\n",
       " <a href=\"#link2HCH0007\"> CHAPTER 7. The Chapel. </a>,\n",
       " <a href=\"#link2HCH0008\"> CHAPTER 8. The Pulpit. </a>]"
      ]
     },
     "execution_count": 21,
     "metadata": {},
     "output_type": "execute_result"
    }
   ],
   "source": [
    "# Getting all the hyperlinks from soup\n",
    "soup.findAll('a')[:10]\n"
   ]
  },
  {
   "cell_type": "code",
   "execution_count": 23,
   "metadata": {},
   "outputs": [
    {
     "data": {
      "text/plain": [
       "str"
      ]
     },
     "execution_count": 23,
     "metadata": {},
     "output_type": "execute_result"
    }
   ],
   "source": [
    "# Getting the text out of the soup and printing it.\n",
    "text = soup.get_text()\n",
    "\n",
    "type(text)"
   ]
  },
  {
   "cell_type": "code",
   "execution_count": 26,
   "metadata": {},
   "outputs": [],
   "source": [
    "# Executing the code below displays the entire text of Moby Dick.\n",
    "\n",
    "#print(text)"
   ]
  },
  {
   "cell_type": "markdown",
   "metadata": {},
   "source": [
    "**Part 2:** Extract Words from text with NLP "
   ]
  },
  {
   "cell_type": "code",
   "execution_count": 29,
   "metadata": {
    "collapsed": true
   },
   "outputs": [],
   "source": [
    "# Import regex package\n",
    "import re\n",
    "\n",
    "# Define sentence\n",
    "sentence = 'peter piper pick a peck of pickled peppers'\n",
    "\n",
    "# Define regex.  This matches words begining with the letter P.\n",
    "ps = 'p\\w+'\n"
   ]
  },
  {
   "cell_type": "code",
   "execution_count": 31,
   "metadata": {},
   "outputs": [
    {
     "data": {
      "text/plain": [
       "['peter', 'piper', 'pick', 'peck', 'pickled', 'peppers']"
      ]
     },
     "execution_count": 31,
     "metadata": {},
     "output_type": "execute_result"
    }
   ],
   "source": [
    "# Finding all the words in the sentence that match the regex\n",
    "re.findall(ps, sentence)\n"
   ]
  },
  {
   "cell_type": "code",
   "execution_count": 35,
   "metadata": {},
   "outputs": [
    {
     "data": {
      "text/plain": [
       "['ï', 'Moby', 'Dick', 'Or', 'the', 'Whale', 'by', 'Herman', 'Melville', 'body']"
      ]
     },
     "execution_count": 35,
     "metadata": {},
     "output_type": "execute_result"
    }
   ],
   "source": [
    "# Step 1: Tokenize\n",
    "\n",
    "# Finding all the words in Moby Dick\n",
    "tokens = re.findall('\\w+', text)\n",
    "\n",
    "# Printing out the first 10 words\n",
    "tokens[:10]\n"
   ]
  },
  {
   "cell_type": "code",
   "execution_count": 39,
   "metadata": {},
   "outputs": [
    {
     "data": {
      "text/plain": [
       "['ï', 'Moby', 'Dick', 'Or', 'the', 'Whale', 'by', 'Herman', 'Melville', 'body']"
      ]
     },
     "execution_count": 39,
     "metadata": {},
     "output_type": "execute_result"
    }
   ],
   "source": [
    "# Import RegexpTokenizer from nltk.tokenize\n",
    "from nltk.tokenize import RegexpTokenizer\n",
    "\n",
    "# Creating the tokenizer\n",
    "tokenizer = RegexpTokenizer('\\w+')\n",
    "\n",
    "# Creating tokens\n",
    "tokens = tokenizer.tokenize(text)\n",
    "\n",
    "# Printing the first few tokens\n",
    "tokens[:10]"
   ]
  },
  {
   "cell_type": "code",
   "execution_count": 41,
   "metadata": {},
   "outputs": [
    {
     "data": {
      "text/plain": [
       "['ï', 'moby', 'dick', 'or', 'the', 'whale', 'by', 'herman', 'melville', 'body']"
      ]
     },
     "execution_count": 41,
     "metadata": {},
     "output_type": "execute_result"
    }
   ],
   "source": [
    "# Initializing a new list\n",
    "words = []\n",
    "\n",
    "# Looping through list tokens and making them lower case\n",
    "for word in tokens:\n",
    "    words.append(word.lower())\n",
    "    \n",
    "# Printing several items from list as a sanity check\n",
    "words[:10]\n"
   ]
  },
  {
   "cell_type": "code",
   "execution_count": 43,
   "metadata": {},
   "outputs": [
    {
     "data": {
      "text/plain": [
       "['i', 'me', 'my', 'myself', 'we', 'our', 'ours', 'ourselves', 'you', \"you're\"]"
      ]
     },
     "execution_count": 43,
     "metadata": {},
     "output_type": "execute_result"
    }
   ],
   "source": [
    "# Step 2:  Removing stop words\n",
    "\n",
    "# Importing nltk\n",
    "import nltk\n",
    "\n",
    "# Getting the English stopwords and printing some of them\n",
    "sw = nltk.corpus.stopwords.words('english')\n",
    "\n",
    "# Listing out the first 10 stop words\n",
    "sw[:10]\n"
   ]
  },
  {
   "cell_type": "code",
   "execution_count": 46,
   "metadata": {},
   "outputs": [
    {
     "data": {
      "text/plain": [
       "['ï',\n",
       " 'moby',\n",
       " 'dick',\n",
       " 'whale',\n",
       " 'herman',\n",
       " 'melville',\n",
       " 'body',\n",
       " 'background',\n",
       " 'faebd0',\n",
       " 'color']"
      ]
     },
     "execution_count": 46,
     "metadata": {},
     "output_type": "execute_result"
    }
   ],
   "source": [
    "# Initializing new list \n",
    "words_ns = []\n",
    "\n",
    "# Adding to words_ns all the words that are in 'words' but not in 'sw'\n",
    "for word in words:\n",
    "    if word not in sw:\n",
    "        words_ns.append(word)\n",
    "        \n",
    "# Printing several list items as a sanity check\n",
    "words_ns[:10]"
   ]
  },
  {
   "cell_type": "markdown",
   "metadata": {},
   "source": [
    "### IV. Answering the question\n",
    "\n",
    "The question was 'What are the most frequent words in the novel *Moby Dick* and how often they occur?"
   ]
  },
  {
   "cell_type": "code",
   "execution_count": 49,
   "metadata": {},
   "outputs": [
    {
     "data": {
      "image/png": "[encoded data removed]",
      "text/plain": [
       "<matplotlib.figure.Figure at 0x11cb76128>"
      ]
     },
     "metadata": {},
     "output_type": "display_data"
    }
   ],
   "source": [
    "# Import datavis libraries\n",
    "import matplotlib.pyplot as plt\n",
    "import seaborn as sns\n",
    "\n",
    "# Figures inline and set visualization style\n",
    "%matplotlib inline\n",
    "\n",
    "sns.set()\n",
    "\n",
    "# Creating a frequency distribution and plot\n",
    "freqdist1 = nltk.FreqDist(words_ns)\n",
    "freqdist1.plot(25)"
   ]
  },
  {
   "cell_type": "markdown",
   "metadata": {},
   "source": [
    "### V. Presenting the solution so that others can understanding it.\n",
    "\n",
    "In the novel *Moby Dick*, the most common word is the word whale which occurs in excess of 1,200 times. "
   ]
  },
  {
   "cell_type": "markdown",
   "metadata": {},
   "source": [
    "### Creating a function to facilitate the whole process"
   ]
  },
  {
   "cell_type": "code",
   "execution_count": 59,
   "metadata": {
    "collapsed": true
   },
   "outputs": [],
   "source": [
    "def plot_word_freq(url):\n",
    "    '''Takes a url (from Project Gutenberg) and plots a word frequency distribution graph'''\n",
    "    \n",
    "    # Makes the request and checks object type\n",
    "    r = requests.get(url)\n",
    "    \n",
    "    # Extracts HTML from Response object and print\n",
    "    html = r.text\n",
    "    \n",
    "    # Create a BeautifulSoup object from the HTML\n",
    "    soup = BeautifulSoup(html, 'html5lib')\n",
    "    \n",
    "    # Get the text out of 'soup'\n",
    "    text = soup.get_text()\n",
    "    \n",
    "    # Creation of the tokenizer\n",
    "    tokenizer = RegexpTokenizer('\\w+')\n",
    "    \n",
    "    # Creating tokens\n",
    "    tokens = tokenizer.tokenize(text)\n",
    "    \n",
    "    # Initializing a new list\n",
    "    words = []\n",
    "    \n",
    "    # Loop through list tokens and make them lower case\n",
    "    for word in tokens:\n",
    "        words.append(word.lower())\n",
    "        \n",
    "    # Get English stopwords and printing some of them\n",
    "    sw = nltk.corpus.stopwords.words('english')\n",
    "    \n",
    "    # Initializing a new list\n",
    "    words_ns = []\n",
    "    \n",
    "    # Add to words_ns all words that are in words but not in sw\n",
    "    for word in words:\n",
    "        if word not in sw:\n",
    "            words_ns.append(word)\n",
    "            \n",
    "    # Creating the frequency distribution and plot\n",
    "    freqdist1 = nltk.FreqDist(words_ns)\n",
    "    \n",
    "    freqdist1.plot(25)"
   ]
  },
  {
   "cell_type": "markdown",
   "metadata": {},
   "source": [
    "### Word Frequency in the novel *Pride and Prejudice*"
   ]
  },
  {
   "cell_type": "code",
   "execution_count": 65,
   "metadata": {},
   "outputs": [
    {
     "data": {
      "image/png": "[encoded data removed]",
      "text/plain": [
       "<matplotlib.figure.Figure at 0x120b84a20>"
      ]
     },
     "metadata": {},
     "output_type": "display_data"
    }
   ],
   "source": [
    "# Pride and prejudice\n",
    "pride_and_prejudice = 'https://www.gutenberg.org/files/42671/42671-h/42671-h.htm'\n",
    "\n",
    "plot_word_freq(pride_and_prejudice)"
   ]
  },
  {
   "cell_type": "markdown",
   "metadata": {},
   "source": [
    "### Word Frequency in the novel *Robinson Crusoe*"
   ]
  },
  {
   "cell_type": "code",
   "execution_count": 66,
   "metadata": {},
   "outputs": [
    {
     "data": {
      "image/png": "[encoded data removed]",
      "text/plain": [
       "<matplotlib.figure.Figure at 0x120655b38>"
      ]
     },
     "metadata": {},
     "output_type": "display_data"
    }
   ],
   "source": [
    "# Robinson Crusoe\n",
    "robinson_crusoe = 'https://www.gutenberg.org/files/521/521-h/521-h.htm'\n",
    "\n",
    "plot_word_freq(robinson_crusoe)"
   ]
  },
  {
   "cell_type": "markdown",
   "metadata": {},
   "source": [
    "### Word Frequency in the *King James Bible*"
   ]
  },
  {
   "cell_type": "code",
   "execution_count": 64,
   "metadata": {},
   "outputs": [
    {
     "data": {
      "image/png": "[encoded data removed]",
      "text/plain": [
       "<matplotlib.figure.Figure at 0x129359eb8>"
      ]
     },
     "metadata": {},
     "output_type": "display_data"
    }
   ],
   "source": [
    "# The King James Bible\n",
    "king_james_bible = 'https://www.gutenberg.org/files/10/10-h/10-h.htm'\n",
    "\n",
    "plot_word_freq(king_james_bible)"
   ]
  }
 ],
 "metadata": {
  "kernelspec": {
   "display_name": "Python 3",
   "language": "python",
   "name": "python3"
  },
  "language_info": {
   "codemirror_mode": {
    "name": "ipython",
    "version": 3
   },
   "file_extension": ".py",
   "mimetype": "text/x-python",
   "name": "python",
   "nbconvert_exporter": "python",
   "pygments_lexer": "ipython3",
   "version": "3.6.1"
  }
 },
 "nbformat": 4,
 "nbformat_minor": 2
}
